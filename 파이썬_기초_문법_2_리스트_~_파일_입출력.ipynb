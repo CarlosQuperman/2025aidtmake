{
  "nbformat": 4,
  "nbformat_minor": 0,
  "metadata": {
    "accelerator": "GPU",
    "colab": {
      "provenance": []
    },
    "kernelspec": {
      "display_name": "Python 3",
      "name": "python3"
    },
    "language_info": {
      "codemirror_mode": {
        "name": "ipython",
        "version": 3
      },
      "file_extension": ".py",
      "mimetype": "text/x-python",
      "name": "python",
      "nbconvert_exporter": "python",
      "pygments_lexer": "ipython3",
      "version": "3.7.1"
    }
  },
  "cells": [
    {
      "cell_type": "markdown",
      "source": [
        "셋, 딕셔너리 추가"
      ],
      "metadata": {
        "id": "DpGZYg2MhPwP"
      }
    },
    {
      "cell_type": "markdown",
      "metadata": {
        "id": "IePeTe0bq6E7"
      },
      "source": [
        "## 8. 리스트(list)\n",
        "- 동적 배열(dynamic array) - 필요에 따라 여러개의 값을 저장할 수 있는 공간\n",
        "- 모든 자료형을 저장할 수 있으며, 자로형을 섞어서 저장해도 됨\n",
        "- $[ ]$ 로 감싸서 사용함\n",
        "- a=[1,2,3]\n",
        "- b=[ ]\n",
        "- c=[[1,2,3],[4,5,6]]"
      ]
    },
    {
      "cell_type": "code",
      "metadata": {
        "id": "5rhQsvLurMP_",
        "colab": {
          "base_uri": "https://localhost:8080/"
        },
        "outputId": "6c9f3c84-6eb1-4220-c1cd-925f954007b6"
      },
      "source": [
        "# [Shift+Enter]를 누르세요.\n",
        "\n",
        "# a 리스트 만들기\n",
        "a=[]\n",
        "# a 리스트 출력하기\n",
        "print(a)\n",
        "# 3번째 데이터 출력하기\n",
        "print(a[])"
      ],
      "execution_count": null,
      "outputs": [
        {
          "output_type": "stream",
          "name": "stdout",
          "text": [
            "[1, 3, 5, 7, 9]\n",
            "5\n"
          ]
        }
      ]
    },
    {
      "cell_type": "code",
      "metadata": {
        "id": "H3UWWcZ0rTQq"
      },
      "source": [
        "#(문제) b=[1, 4, 7, 10] 출력하기 : list, range를 이용하세요.\n",
        "b = list(range(,,))\n",
        "print(b)\n"
      ],
      "execution_count": null,
      "outputs": []
    },
    {
      "cell_type": "code",
      "metadata": {
        "id": "KqcHG7VyCnfH"
      },
      "source": [
        "# (문제) 리스트 안의 리스트 만들고 리스트 값 출력 및 삭제\n",
        "\n",
        "lst = []\n",
        "\n",
        "# append  끝에서부터 추가 됨\n",
        "\n",
        "lst.append([1, '홍길동'])\n",
        "lst.append([2, '장길산'])\n",
        "lst.append([3, '전우치'])\n",
        "\n",
        "print(lst)\n",
        "\n",
        "#print(lst[])\n",
        "#print(lst[][])\n",
        "\n",
        "# pop 끝에서부터 제거 됨\n",
        "\n",
        "#lst.pop()\n",
        "#print(lst)\n"
      ],
      "execution_count": null,
      "outputs": []
    },
    {
      "cell_type": "code",
      "metadata": {
        "id": "PSi0M5ZV4qds"
      },
      "source": [
        "# 원하는 위치에 집어넣기\n",
        "\n",
        "lst.insert(,[2,'로빈 후드'])\n",
        "print(lst)\n"
      ],
      "execution_count": null,
      "outputs": []
    },
    {
      "cell_type": "code",
      "metadata": {
        "id": "i9AAh9tN4whP"
      },
      "source": [
        "# 리스트 값 수정하기\n",
        "\n",
        "lst[][]=3\n",
        "print(lst)"
      ],
      "execution_count": null,
      "outputs": []
    },
    {
      "cell_type": "code",
      "metadata": {
        "id": "s6UHporq4ySr"
      },
      "source": [
        "# 특정 위치 값 삭제하기\n",
        "\n",
        "del lst[]\n",
        "print(lst)"
      ],
      "execution_count": null,
      "outputs": []
    },
    {
      "cell_type": "markdown",
      "source": [
        "### 리스트 컴프리헨션\n",
        "\n",
        "* 리스트의 값을 for를 통해 순회하면서\n",
        "* 특정한 처리를 할때는 [처리 for i in lst]\n",
        "* 의 형식으로 다양하게 값들을 처리할 수 있다!"
      ],
      "metadata": {
        "id": "FqoiLv0jhqGm"
      }
    },
    {
      "cell_type": "code",
      "source": [
        "#리스트의 댜앙한 선언\n",
        "\n",
        "zero_1 = []\n",
        "zero_2 = []\n",
        "zero_22 = []\n",
        "zero_3 = []\n",
        "\n",
        "#0을 10개 가지는 리스트를 선언하는 3가지 방법\n",
        "\n",
        "#1 for 반복문\n",
        "\n",
        "#for i in range():\n",
        "#  zero_1.append()\n",
        "\n",
        "#print(zero_1)\n",
        "\n",
        "#2 곱하기 연산으로\n",
        "\n",
        "#zero_2 = [0]*\n",
        "#print(zero_2)\n",
        "\n",
        "#3 리스트 컴프리헨션\n",
        "\n",
        "#zero_2의 처음부터 끝까지 4번 복사\n",
        "#zero_22 = [zero_2[:] for _ in range()]\n",
        "#print(zero_22)\n",
        "\n",
        "#4 리스트 컴프리헨션\n",
        "#zero_3 = [0 for _ in range(10)]\n",
        "#print(zero_3)\n"
      ],
      "metadata": {
        "id": "7w23cvSRh4c-"
      },
      "execution_count": null,
      "outputs": []
    },
    {
      "cell_type": "markdown",
      "source": [
        "### 9. 셋(set)\n",
        "\n",
        "- 셋은 리스트와 비교하지만 다음과 같은 특징이 있다.\n",
        "- 1) 리스트는 중복을 허용하지만 셋은 중복을 허용하지 않는다.\n",
        "- 2) 리스트에서는 순서가 의미 있지만 셋은 순서가 없다\n",
        "- 3) 2)의 특징으로 셋에서는 순서를 통해 접근할 수 없기에 통째로 접근하거나 내용이 있는지 없는지만 확인할 수 있다.\n",
        "- 4) 셋의 선언은 {}로 한다."
      ],
      "metadata": {
        "id": "5zLrIt07gA3F"
      }
    },
    {
      "cell_type": "code",
      "source": [
        "my_set = {1,1,2,2,3,3,4,4,4,4,4,4,4}\n",
        "print()"
      ],
      "metadata": {
        "id": "xmsCcn7FhwAT"
      },
      "execution_count": null,
      "outputs": []
    },
    {
      "cell_type": "code",
      "source": [
        "jwj_menu = ['명가곱창','BBQ 온의점','중국성','유천칡냉면','도담족발','중국성','부자네토종순대국','명가곱창','중국성','부자네토종순대국']\n",
        "print(jwj_menu)\n",
        "print(jwj_menu[]) #가장 처음에 있는 값\n",
        "print(jwj_menu[]) #가장 마지막에 있는 값\n",
        "\n",
        "\n",
        "#jwj_menu_set = (jwj_menu)\n",
        "#print(jwj_menu_set)\n",
        "\n",
        "#find_menu = ('주문여부를 확인할 음식점 이름을 입력하세요')\n",
        "\n",
        "#if find_menu  jwj_menu_set:\n",
        "#  print(\"주문하셨습니다.\")\n",
        "#else:\n",
        "#  print(\"주문하지 않으셨습니다.\")"
      ],
      "metadata": {
        "id": "X82LQufAgr67"
      },
      "execution_count": null,
      "outputs": []
    },
    {
      "cell_type": "markdown",
      "source": [
        "### 10. 딕셔너리\n",
        "\n",
        "* 딕셔너리는 키워드(k)와 값(v)으로 이루어진 자료구조이다.\n",
        "* Apple : '사과, Car : '고양이' 같이 앞에 있는 것이 키워드이고 : 뒤에 있는 것이 밸류이다.\n",
        "* 키는 중복될 수 없다.\n",
        "* 딕셔너리의 선언은 중괄호 {}를 사용하며 :를 통해서 키와 밸류를 구별한다."
      ],
      "metadata": {
        "id": "i8xyf32Vh45n"
      }
    },
    {
      "cell_type": "code",
      "source": [
        "sdhs_dic = {'장원재' : '정보','홍길동' : '일반사회', '로빈후드' : '생명과학'}\n",
        "sdhs_insung = {'장원재' : , '홍길동' : , '로빈후드' : }\n",
        "#print(sdhs_dic[''])\n",
        "#print(sdhs_insung[''])\n",
        "\n",
        "#딕셔너리 순회\n",
        "\n",
        "#밸류값만 순회\n",
        "\n",
        "for v in sdhs_dic:\n",
        "  print(v)\n",
        "\n",
        "#키와 밸류 모두 순회\n",
        "for key, value in sdhs_dic:\n",
        "    print(f\"Key: {key}, Value: {value}\")\n",
        "\n",
        "\n",
        "\n"
      ],
      "metadata": {
        "id": "AypM2tlqiR9z"
      },
      "execution_count": null,
      "outputs": []
    },
    {
      "cell_type": "markdown",
      "metadata": {
        "id": "zrbPCRjhIdIT"
      },
      "source": [
        "## 11. 함수(function)\n",
        "\n",
        "### 함수 : 입력이 있으면 출력이 있다. (자판기)\n",
        "- 내가 자판기에 1000원을 넣으면\n",
        "- 음료수를 고른 후 음료수와 거스름돈이 나온다\n",
        "\n",
        "### 내장함수(built-in function)\n",
        "- 파이썬에서 이미 만들어 놓은 함수\n",
        "- max(), min(), int(), len()\n",
        "\n",
        "### 메소드, 메서드(method)\n",
        "- 특정 자료형이 가지고 있는 자료형 안의 함수\n",
        "- lst2.sort(), 리스트를 오름차순 정렬\n",
        "- lst2.sort(reverse=1), 리스트를 내림차순 정렬\n",
        "\n",
        "### 사용자 정의 함수(user-defined function)\n",
        "- def 키워드로 함수 정의함\n",
        "- return-type 없음"
      ]
    },
    {
      "cell_type": "code",
      "metadata": {
        "id": "xuvxOixIDyE6"
      },
      "source": [
        "# (문제) 파이썬에서 만들어놓은 함수는 함수의 이름을 쓰고 ()안에 입력값을 집어넣으면 된다\n",
        "\n",
        "lst2 = [1,2,3,4,5,6,7,8,9,10,100,200,-45,50]\n",
        "lst3 = [1,2,4,8,16,32,64,128,256,512]\n",
        "\n",
        "print(max(lst2)) #최대값\n",
        "print((lst2)) #최소값\n",
        "print(len(l)) #크기\n",
        "\n"
      ],
      "execution_count": null,
      "outputs": []
    },
    {
      "cell_type": "code",
      "metadata": {
        "id": "Ima_16YP4-pe"
      },
      "source": [
        "# (문제) 리스트안에 들어있는 내장함수인 메소드 사용 정렬\n",
        "lst2.sort()\n",
        "print(lst2)\n"
      ],
      "execution_count": null,
      "outputs": []
    },
    {
      "cell_type": "code",
      "metadata": {
        "id": "fQtW1wtJ5Az6"
      },
      "source": [
        "# (문제) 리스트안에 들어있는 내장함수인 메소드 사용 정렬\n",
        "lst3.sort(reverse=1)\n",
        "print(lst3)"
      ],
      "execution_count": null,
      "outputs": []
    },
    {
      "cell_type": "code",
      "metadata": {
        "id": "pPSh5VtlIePQ"
      },
      "source": [
        "# 1부터 n까지의 곱을 출력한다 (팩토리얼) - 사용자 정의 함수\n",
        "\n",
        "import sys\n",
        "sys.setrecursionlimit(1000000) #재귀의 한도를 풀어줌\n",
        "\n",
        "def f(n): # 함수 f를 정의하며 입력값은 n이다.\n",
        "  if n>1: #만약 n이 1보다 크면\n",
        "    return n*f(n-1) #n과 n-1의 f값을 돌려준다.\n",
        "  else:\n",
        "    return n #만약 n이 1이하면 자신을 그대로 돌려준다\n",
        "\n",
        "n=int(input())\n",
        "print(\"%d\" %f(n)) #두번째 %뒤에 있는 값을 %d <- 정수 값으로 출력해준다\n",
        "print(f\"결과값 : {f(n)}\")\n"
      ],
      "execution_count": null,
      "outputs": []
    },
    {
      "cell_type": "code",
      "metadata": {
        "id": "SmDcm7XU6BzO"
      },
      "source": [
        "# 2개의 값이 들어오면 사칙 연산 계산해주는 함수 만들기\n",
        "# v1, v2는 \"특정값\"이 아니라 \"들어오는 값의 이름을 나타낸다\"\n",
        "\n",
        "def plus(v1,v2):\n",
        "  return v1v2\n",
        "\n",
        "def minus(v1,v2):\n",
        "  return v1v2\n",
        "\n",
        "def cross(v1,v2):\n",
        "  return v1v2\n",
        "\n",
        "def divid(v1,v2):\n",
        "  return v1v2\n"
      ],
      "execution_count": null,
      "outputs": []
    },
    {
      "cell_type": "code",
      "metadata": {
        "id": "-h7tl_-Y6veW"
      },
      "source": [
        "a,b = map(int,input().split(\",\"))\n",
        "\n",
        "print(plus(a,b))\n",
        "print((a,b))\n",
        "print((a,b))\n",
        "print((a,b))\n",
        "\n",
        "\n",
        "#print(f\"두 수의 합은 : {plus(a,b)}입니다.\")\n",
        "#\n",
        "#\n",
        "#\n"
      ],
      "execution_count": null,
      "outputs": []
    },
    {
      "cell_type": "code",
      "source": [
        "#메서드 : 특정 자료형이 가지고 있는 함수를 활용한 리스트 컴프리헨션\n",
        "\n",
        "nara = ['South Korea', 'Japan', 'Canada', 'Brazil', 'Germany']\n",
        "\n",
        "big_nara = []\n",
        "\n",
        "#단순 for 반복문\n",
        "for n in nara:\n",
        "    big_nara.append(n.upper())\n",
        "\n",
        "print(\"단순 루프 활용:\", big_nara)\n",
        "\n",
        "#리스트 컴프리헨션\n",
        "\n",
        "big_nara_comp = [n.upper() for n in nara]\n",
        "\n",
        "print(\"리스트 컴프리헨션 사용:\", big_nara_comp)\n",
        "\n"
      ],
      "metadata": {
        "id": "_ZevjPhTkBBz"
      },
      "execution_count": null,
      "outputs": []
    },
    {
      "cell_type": "markdown",
      "metadata": {
        "id": "mhlxttZjJt7R"
      },
      "source": [
        "## 12. 모듈(module) - 라이브러리\n",
        "### 개념\n",
        "- 서로 연관된 작업을 하는 코드들의 모임\n",
        "- 프로그래밍을 하는데 필요한 도구들\n",
        "\n",
        "   - 표준 모듈 : 파이썬 안에 포함된 모듈 ( 예 : math, random) <br>\n",
        "   - 3'rd party module : 외부에서 만들어서 제공하는 모듈 ( 예 : numpy, matplotlib) -> 이 친구들은 따로 설치해주는 것이 필요함 (예 : 한글 글씨체, Konlpy 등) <br>\n",
        "\n",
        "### 모듈 사용방법\n",
        "- import 모듈명  : 모듈 불러오기\n",
        "- 모듈명.함수() : 모듈안에 저장된 함수 호출하기\n",
        "- 모듈명.변수 : 모듈안에 저장된 변수 호출"
      ]
    },
    {
      "cell_type": "code",
      "metadata": {
        "id": "fhHrBkerJxIg"
      },
      "source": [
        "# math module 불러오기 -> [Shift+Enter]를 누르세요.\n",
        "import math\n",
        "\n",
        "#문제 (3, 15) 최대공약수 구하기\n",
        "print(math.gcd(,))\n",
        "\n",
        "#문제 (3, 15) 최소공배수 구하기 (두 수를 곱한 후 최대공약수로 나누기)\n",
        "import math\n",
        "print((*)/math.gcd(3,15))\n"
      ],
      "execution_count": null,
      "outputs": []
    },
    {
      "cell_type": "markdown",
      "metadata": {
        "id": "6tedXy47K2eX"
      },
      "source": [
        "## 13. File Input/Output\n",
        "### File I/O\n",
        "- 파일객체 = open(\"파일명\",\"형식\")\n",
        "- 파일객체.close()\n",
        "  - 형식 : \"r\" : 읽기, \"w\" : 쓰기, \"a\" : 추가하기\n",
        "\n",
        "- 파일 읽기\n",
        "  - readlines() : 한줄씩 읽어서 리스트 원소로 들어감.\n",
        "  - readline() : 한 줄 읽고 \\n나오면 끝남.\n",
        "  \n",
        "- 파일객체.writelines(문자열리스트)\n",
        "  - 리스트에 있는 모든 문자열 쓰기\n",
        "  - 문자열 리스트에 개행문자(\"\\n\")가 없으면 1줄로 붙어서 저장됨\n",
        "  \n",
        "- 문자열.strip('\\n') : \\n을 삭제함."
      ]
    },
    {
      "cell_type": "code",
      "metadata": {
        "id": "L43mTY9jK5nV"
      },
      "source": [
        "# data 리스트 만들기\n",
        "data = [\"10\\n\", \"20\\n\", \"30\\n\", \"40\\n\", \"50\\n\",\"60\\n\"]\n",
        "\n",
        "#(문제) 파일 만들기 : test.txt (쓰기 모드)\n",
        "f = open(\"\",\"w\")\n",
        "\n",
        "#(문제) 파일에 data 넣기\n",
        "f.writelines(data)\n",
        "\n",
        "# 파일 닫기\n",
        "f.close()"
      ],
      "execution_count": null,
      "outputs": []
    },
    {
      "cell_type": "code",
      "source": [
        "f = open(\"\",\"a\")\n",
        "data2 = [\"\\n\", \"\\n\", \"\\n\", \"\\n\", \"\\n\",\"\\n\"]\n",
        "#(문제) 파일에 data 넣기\n",
        "f.writelines(data2)\n",
        "\n",
        "# 파일 닫기\n",
        "f.close()"
      ],
      "metadata": {
        "id": "F8HW6wD-bNiM"
      },
      "execution_count": null,
      "outputs": []
    },
    {
      "cell_type": "code",
      "metadata": {
        "id": "M-4Nq_xwK6ep"
      },
      "source": [
        "#(문제) 파일 열기 : test.txt (읽기 모드)\n",
        "f = open(\"\",\"\")\n",
        "\n",
        "#파일안에 있는 데이터를 읽어서 리스트(result)에 저장하기\n",
        "result = f.readlines()\n",
        "\n",
        "# result 출력하기\n",
        "print(result)\n",
        "\n",
        "# 출력결과처럼 나오게 코드 작성해 보세요.\n",
        "# 단 '\\n'은 삭제하고, result에 저장된 데이터는 실수형으로 바꿔주세요.\n",
        "\n",
        "ans = [float(i.strip('\\n')) for i in result]\n",
        "\n",
        "print(ans)"
      ],
      "execution_count": null,
      "outputs": []
    }
  ]
}