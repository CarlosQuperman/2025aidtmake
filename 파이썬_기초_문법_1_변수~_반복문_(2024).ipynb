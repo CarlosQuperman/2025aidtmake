{
  "nbformat": 4,
  "nbformat_minor": 0,
  "metadata": {
    "accelerator": "GPU",
    "colab": {
      "provenance": []
    },
    "kernelspec": {
      "name": "python3",
      "display_name": "Python 3"
    },
    "language_info": {
      "codemirror_mode": {
        "name": "ipython",
        "version": 3
      },
      "file_extension": ".py",
      "mimetype": "text/x-python",
      "name": "python",
      "nbconvert_exporter": "python",
      "pygments_lexer": "ipython3",
      "version": "3.7.1"
    }
  },
  "cells": [
    {
      "cell_type": "markdown",
      "metadata": {
        "id": "zyrWqMpY5cKw"
      },
      "source": [
        "# Python Basic\n"
      ]
    },
    {
      "cell_type": "markdown",
      "metadata": {
        "id": "gwTICS0CkCiw"
      },
      "source": [
        "- 코드 부분에 [Shift+Enter]를 누르면 실행이 됩니다.\n",
        "- (문제)라고 표시된 부분에 코드를 완성하고 [Shift+Enter]를 눌러 실행시켜보세요.\n",
        "- 스마트폰에서 실행시에는 반드시 크롬 시크릿 모드를 통해 접속하세요. 실행은 왼쪽에 동영상 재생 모양의 버튼을 누르면 됩니다."
      ]
    },
    {
      "cell_type": "markdown",
      "metadata": {
        "id": "fN01DvbA50JZ"
      },
      "source": [
        "## 1. variable(변수)\n",
        "- 변수란 **변하는 수**를 저장하는 **공간**을 의미함. <> 상수 (항상 변하지 않는 수)\n",
        "- 변수를 미리 선언하지 않음.\n",
        "- 변수의 데이터형은 대입되는 자료에 따라 자동으로 결정됨."
      ]
    },
    {
      "cell_type": "code",
      "metadata": {
        "id": "JsBJFWPlsdpi"
      },
      "source": [
        "# 도구 -> 설정 눌러서 선생님이 지시하는 대로 설정 꼭하기!!!!\n",
        "# a변수에 정수 10 입력  -> [Shift+Enter]를 누르세요. 또는 왼쪽의 실행버튼 누르기\n",
        "# a변수에 10-10 입력 -> 결과 확인\n",
        "a=1\n",
        "print(a,\" \",type(a))\n",
        "\n",
        "# int란 ()를 의미한다.\n",
        "# ()란 소수점이 있다? ()"
      ],
      "execution_count": null,
      "outputs": []
    },
    {
      "cell_type": "code",
      "metadata": {
        "id": "dUvZsCUY8r2W"
      },
      "source": [
        "# a 변수에 실수 10.6 입력 -> [Shift+Enter]를 누르세요. 또는 왼쪽의 실행버튼 누르기\n",
        "a=\n",
        "print(a,\" \",type(a))\n",
        "\n",
        "# float란 ()를 의미한다.\n",
        "# ()란 소수점이 있다? ()"
      ],
      "execution_count": null,
      "outputs": []
    },
    {
      "cell_type": "code",
      "metadata": {
        "id": "o6w5_hwOsalU"
      },
      "source": [
        "# a 변수에 문자열 \"hello\" 입력 -> [Shift+Enter]를 누르세요. 또는 왼쪽의 실행버튼 누르기\n",
        "a=\"\"\n",
        "print(a,\" \",type(a))\n",
        "\n",
        "# str이란 ()를 의미한다.\n",
        "# ()는 1개인가 n개인가? ()"
      ],
      "execution_count": null,
      "outputs": []
    },
    {
      "cell_type": "code",
      "metadata": {
        "id": "rssus1nE8tzm"
      },
      "source": [
        "# a 변수에 'h' 입력 -> 데이터 타입은? -> [Shift+Enter]를 누르세요. 또는 왼쪽의 실행버튼 누르기\n",
        "a=''\n",
        "print(a,\" \",type(a))\n",
        "\n",
        "# 파이썬에서 ''과 \"\"은 (글자 )라는 의미를 나타낸다."
      ],
      "execution_count": null,
      "outputs": []
    },
    {
      "cell_type": "markdown",
      "metadata": {
        "id": "cil36Nakfh-3"
      },
      "source": [
        "## 2. String\n",
        "- ' '(작은 따옴표) 또는 \" \"(큰 따옴표)로 묶어서 표현\n",
        "- 문자열 연결(+), 문자열 반복(*)\n",
        "- len() : 문자열 길이 구하기\n",
        "- 컴퓨터는 항상 1이 아니라 0부터 센다.\n",
        "- 따라서 컴퓨터에서 문자의 시작은 1이 아니라 0부터이다.\n",
        "- 파이썬에서 숫자 [0:3]과 같은 형태는 [시작:미만]을 나타낸다."
      ]
    },
    {
      "cell_type": "code",
      "metadata": {
        "id": "h8yRsG298wAy"
      },
      "source": [
        "st1=\"Hello \"\n",
        "st2=\"World\"\n",
        "\n",
        "#(문제) st1과 st2를 이용해 \"Hello World\"를 저장하시오.\n",
        "st3=st1+st2\n",
        "\n",
        "# st3 출력\n",
        "print(st3)\n",
        "\n",
        "#(문제) \"Hello World\" 를 출력결과처럼 3번 반복하세요.\n",
        "print(st3)"
      ],
      "execution_count": null,
      "outputs": []
    },
    {
      "cell_type": "code",
      "metadata": {
        "id": "gCb3IApc88gv",
        "colab": {
          "base_uri": "https://localhost:8080/"
        },
        "outputId": "10eee960-6ea8-4021-f3c2-292ecddf5021"
      },
      "source": [
        "# python에서 문자열의 인덱스(위치)는 0부터 시작한다.\n",
        "st=\"Hello World\"\n",
        "\n",
        "#(문제) 출력 결과처럼 나오게 코딩하세요.\n",
        "print(st)\n",
        "print(st[])\n",
        "print(st[:]) #st라는 곳에서 1번째부터 5미만까지 출력해주세요\n",
        "print(st[:]) #st라는 곳에서 0번째부터 5미만까지 출력해주세요"
      ],
      "execution_count": null,
      "outputs": [
        {
          "output_type": "stream",
          "name": "stdout",
          "text": [
            "Hello World\n",
            "l\n",
            "ello\n",
            "Hello\n"
          ]
        }
      ]
    },
    {
      "cell_type": "markdown",
      "metadata": {
        "id": "J5euMvExgijF"
      },
      "source": [
        "## 3. 표준 입력(input())\n",
        "- 변수=input() : 리턴값 - 문자열\n",
        "- 한번에 여러개 입력받기 : 리턴값 - 문자열\n",
        "  - 변수1, 변수2=input().split()  : spacebar 구분\n",
        "- 한번에 여러개 입력받기 : map() 이용하면 데이터형 변환함\n",
        "  - 변수1, 변수2=map(int, input().split())\n",
        "  - 변수1, 변수2=map(float, input().split())\n",
        "  \n",
        "\n",
        "## 4. 표준 출력(output())\n",
        "- print(변수)\n",
        "- print(\"{ } { }\".format(변수1, 변수2))\n",
        "- print(\"%d\"%변수)"
      ]
    },
    {
      "cell_type": "code",
      "metadata": {
        "id": "3rUd0NiUEHkB"
      },
      "source": [
        "# 1개의 입력값 출력하기\n",
        "\n",
        "a = input()\n",
        "print(a)"
      ],
      "execution_count": null,
      "outputs": []
    },
    {
      "cell_type": "code",
      "metadata": {
        "id": "HVvSZYLAERw5"
      },
      "source": [
        "# 2개의 입력값 출력하기\n",
        "\n",
        "a,b = input().split(',')\n",
        "print(a,b)\n",
        "\n",
        "c,d=input().split()\n",
        "print(c,d)\n",
        "\n"
      ],
      "execution_count": null,
      "outputs": []
    },
    {
      "cell_type": "code",
      "source": [
        "a,b,c = input().split(':')\n",
        "print()"
      ],
      "metadata": {
        "id": "j1oMd0ZRZDJ5"
      },
      "execution_count": null,
      "outputs": []
    },
    {
      "cell_type": "code",
      "metadata": {
        "id": "Mc4SljnaImAN"
      },
      "source": [
        "#(문제) a, b 값 출력하기\n",
        "\n",
        "a = 7\n",
        "b = 3.1415926535411441515814151846515584881515\n",
        "\n",
        "print(a,\" \",b)\n",
        "print(\"a={} {}\".format(a,a))\n",
        "print(\"b=%d\" %(b))\n",
        "print(\"b=%f\" %(b))\n",
        "print(\"b=%.30f\" %(b))\n",
        "print(f\"b={b:.50f}\")\n",
        "\n",
        "\n",
        "# a={}, format은 {}안에 a를 채워주라는 뜻\n",
        "# %d는 정수 출력해라!!\n",
        "# %f는 실수 출력해라!!\n",
        "# %.3f는 소수 세째 자리까지 출력해라\n",
        "# 출력전에 f를 쓰고 \"\"안에 변수를 {}형태로 집어넣은 것을 fstring이라고 한다. 편하고 식별도 좋으니 잘 쓰자!\n"
      ],
      "execution_count": null,
      "outputs": []
    },
    {
      "cell_type": "markdown",
      "metadata": {
        "id": "PWErElGrsok2"
      },
      "source": [
        "## 5. 연산자\n",
        "- 산술연산자 : +, -, (*)(곱하기), /, //(몫), %(나머지),\n",
        "- 산술연산자 **(거듭제곱)\n",
        "- 비교연산자 : <, <=, >, >=,  ==, !=\n",
        "- 논리연산자 : and, or, not"
      ]
    },
    {
      "cell_type": "markdown",
      "metadata": {
        "id": "Ilc2GwSIklae"
      },
      "source": [
        "## 6. 조건식\n",
        "```\n",
        "if 조건식1:\n",
        "     문장1\n",
        "elif 조건식2:\n",
        "    문장2\n",
        "else:\n",
        "    문장3\n",
        "    ```\n",
        "\n",
        "\n"
      ]
    },
    {
      "cell_type": "code",
      "metadata": {
        "id": "kqVsb-N-FyBn"
      },
      "source": [
        "a,b = input().split() #2개 이상 입력받을 때 컴퓨터는 그 값이 숫자인지 글자인지 알 수 있을까?\n",
        "#a = int(a)\n",
        "#b = int(b)\n",
        "#a,b = map(int,input().split())\n",
        "\n",
        "print(a<b) #a가 b보다 작은가? 참 or 거짓?\n",
        "print(a>b) #a가 b보다 큰가? 참 or 거짓?\n",
        "print(a>=b) #a가 b이상인가? 참 or 거짓?\n",
        "print(a+b)\n",
        "print(a-b)\n",
        "print(a*b) #* 곱하기\n",
        "print(ab) # / 나눗셈의 결과\n",
        "print(ab) #// 나눗셈의 몫\n",
        "print(ab) # % 나눗셈의 나머지\n",
        "print(ab) # ** 제곱\n"
      ],
      "execution_count": null,
      "outputs": []
    },
    {
      "cell_type": "code",
      "metadata": {
        "id": "TaSo9XueGif5"
      },
      "source": [
        "a = int(input('숫자를 입력하세요'))\n",
        "\n",
        "if a>1000 :\n",
        "  print('a가 1000보다 큽니다.')\n",
        "elif a>= and a<:\n",
        "  print('a가 50이상이고 100미만입니다.')\n",
        "else:\n",
        "  print('a가 50보다 작습니다.')\n"
      ],
      "execution_count": null,
      "outputs": []
    },
    {
      "cell_type": "code",
      "metadata": {
        "id": "w_mes0x7syg_"
      },
      "source": [
        "#(문제) 입력값(n)에 대한 짝수/홀수 구하기\n",
        "n=int(input())\n",
        "\n",
        "if (n%)==0:\n",
        "  print(\"짝수\")\n",
        "else:\n",
        "  print(\"홀수\")"
      ],
      "execution_count": null,
      "outputs": []
    },
    {
      "cell_type": "markdown",
      "metadata": {
        "id": "9NLeidaZs3h4"
      },
      "source": [
        "## 7. 반복문\n",
        "```\n",
        "for 변수 in range(초기값, 최종값, [증감]):\n",
        "    실행문\n",
        "```\n",
        "- 초기값 ~ (최종값-1)까지 증 반복 (+일때 미만)\n",
        "- 초기값 ~ (최종값+1)까지 감 반복 (-일때 초과)"
      ]
    },
    {
      "cell_type": "code",
      "metadata": {
        "id": "N_sqBb4Os7PW"
      },
      "source": [
        "#1부터 10까지 출력하기\n",
        "for i in range(,,):\n",
        "  print(i)"
      ],
      "execution_count": null,
      "outputs": []
    },
    {
      "cell_type": "code",
      "metadata": {
        "id": "HSNiNYrQG-fd"
      },
      "source": [
        "#9부터 1까지 출력하기\n",
        "for i in range(,,):\n",
        "  print(i)"
      ],
      "execution_count": null,
      "outputs": []
    },
    {
      "cell_type": "code",
      "metadata": {
        "id": "N0srWY6LtXE_",
        "colab": {
          "base_uri": "https://localhost:8080/"
        },
        "outputId": "fe710f0a-f1de-4a03-e39e-df474aa510c5"
      },
      "source": [
        "#(문제) 1,3,5,7,9 출력하기 (\\n없애기)\n",
        "for i in range(,,):\n",
        "  print(i,end=' ')"
      ],
      "execution_count": null,
      "outputs": [
        {
          "output_type": "stream",
          "name": "stdout",
          "text": [
            "1 3 5 7 9 "
          ]
        }
      ]
    },
    {
      "cell_type": "code",
      "metadata": {
        "id": "9YEV6D9wtZEM"
      },
      "source": [
        "#(문제) 10,8,6,4,2,0 출력하기 (\\n 없애기)\n",
        "for i in range(,,):\n",
        "  print(i,end=\" \")"
      ],
      "execution_count": null,
      "outputs": []
    },
    {
      "cell_type": "code",
      "source": [
        "for g in range(,,):\n",
        "  for c in range(,,):\n",
        "    print(f'{}학년{}반')\n",
        "  print()"
      ],
      "metadata": {
        "id": "8iTTSduWhuCN"
      },
      "execution_count": null,
      "outputs": []
    },
    {
      "cell_type": "code",
      "metadata": {
        "id": "7YddFSm_mF3L"
      },
      "source": [
        "#숫자(5) 삼각형 출력하기\n",
        "\n",
        "for i in range(1,10):\n",
        "  for j in range(1,i+1):\n",
        "    print(j,end=' ')\n",
        "  print()"
      ],
      "execution_count": null,
      "outputs": []
    },
    {
      "cell_type": "code",
      "metadata": {
        "id": "_hdVr4cif5G6"
      },
      "source": [],
      "execution_count": null,
      "outputs": []
    },
    {
      "cell_type": "code",
      "metadata": {
        "id": "yeNShPKmaybX"
      },
      "source": [
        "#\n",
        "\n",
        "1\n",
        "2 1\n",
        "3 2 1\n",
        "4 3 2 1\n",
        "5 4 3 2 1\n",
        "\n"
      ],
      "execution_count": null,
      "outputs": []
    },
    {
      "cell_type": "code",
      "metadata": {
        "id": "xb8DOT8Ka43K"
      },
      "source": [
        "#\n",
        "\n",
        "5 4 3 2 1\n",
        "4 3 2 1\n",
        "3 2 1\n",
        "2 1\n",
        "1"
      ],
      "execution_count": null,
      "outputs": []
    }
  ]
}